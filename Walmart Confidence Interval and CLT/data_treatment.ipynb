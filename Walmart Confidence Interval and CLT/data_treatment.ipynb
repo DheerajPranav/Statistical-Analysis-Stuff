{
 "cells": [
  {
   "cell_type": "markdown",
   "metadata": {},
   "source": [
    "<p><span style=\"text-decoration: underline;\"><strong>Problem Description:</strong></span></p>\n",
    "<p>Real-world data is seldom clean, rather, it tends to have lots of noisy values. These can range from values disturbing the distribution of the data to null, infinite values, and so on. Your task here will be to treat one such kind of data. </p>\n",
    "<p>The<strong> dataset</strong> can be downloaded from: <strong><a style=\"color: blue;\" href=\"https://d3n0h9tb65y8q.cloudfront.net/public_assets/assets/000/002/000/original/input_data.csv?1638532904\" target=\"_blank\" rel=\"noopener\">input_data.csv</a></strong></p>\n",
    "<p>After clicking on the data link above, you can download the file by right-clicking on the page and clicking on \"Save As\", then naming the file as per your wish, with .csv as the extension.</p>\n",
    "<p>Your task will be to:</p>\n",
    "<ul>\n",
    "<li>Replace all null/nan values with 0</li>\n",
    "<li>Replace all negative infinite values with -1 and positive infinities with 1 (usually these will be of type np.inf)</li>\n",
    "<li>The non-null and non-inf values, basically integers, range from the range 50-100. Replace each such value with the square root of the same, and round them off up to 2 decimal places.</li>\n",
    "</ul>\n",
    "<p>For e.g.:</p>\n",
    "<p>Suppose input data is [-inf, nan, 64, 81, 100, 93, inf, 70, nan]</p>\n",
    "<p>The output data will look [-1., 0., 8., 9., 10., 9.64, 1., 8.37, 0.]</p>\n",
    "<p><span style=\"text-decoration: underline;\"><strong>Submission Guidelines:<br /><br /></strong></span>Submit a CSV file with the columns “id” and “dataPoints”, in the same order of the \"id\"s as in the input_data.csv file. You can refer to the <a style=\"color: blue;\" href=\"https://d2beiqkhq929f0.cloudfront.net/public_assets/assets/000/002/617/original/sample_submission.csv?1646667691\" target=\"_blank\" rel=\"noopener\"><strong>sample_submission.csv</strong></a>file to understand what the output CSV file will look like.</p>"
   ]
  },
  {
   "cell_type": "code",
   "execution_count": 33,
   "metadata": {},
   "outputs": [],
   "source": [
    "import pandas as pd\n",
    "import numpy as np"
   ]
  },
  {
   "cell_type": "code",
   "execution_count": 34,
   "metadata": {},
   "outputs": [],
   "source": [
    "df = pd.read_csv('input01.txt', sep=',')"
   ]
  },
  {
   "cell_type": "code",
   "execution_count": 35,
   "metadata": {},
   "outputs": [
    {
     "data": {
      "text/plain": [
       "id            0\n",
       "dataPoints    8\n",
       "dtype: int64"
      ]
     },
     "execution_count": 35,
     "metadata": {},
     "output_type": "execute_result"
    }
   ],
   "source": [
    "df.isnull().sum()"
   ]
  },
  {
   "cell_type": "code",
   "execution_count": 36,
   "metadata": {},
   "outputs": [],
   "source": [
    "df['flag'] = 'others'"
   ]
  },
  {
   "cell_type": "code",
   "execution_count": 37,
   "metadata": {},
   "outputs": [],
   "source": [
    "df.loc[df['dataPoints'].isnull(), 'flag'] = 'filled'"
   ]
  },
  {
   "cell_type": "code",
   "execution_count": 38,
   "metadata": {},
   "outputs": [
    {
     "data": {
      "text/plain": [
       "others    92\n",
       "filled     8\n",
       "Name: flag, dtype: int64"
      ]
     },
     "execution_count": 38,
     "metadata": {},
     "output_type": "execute_result"
    }
   ],
   "source": [
    "df['flag'].value_counts()"
   ]
  },
  {
   "cell_type": "code",
   "execution_count": 39,
   "metadata": {},
   "outputs": [
    {
     "data": {
      "text/plain": [
       "others    71\n",
       "filled    29\n",
       "Name: flag, dtype: int64"
      ]
     },
     "execution_count": 39,
     "metadata": {},
     "output_type": "execute_result"
    }
   ],
   "source": [
    "df.loc[df['dataPoints'].isin([np.inf, -np.inf]), 'flag'] = 'filled'\n",
    "df['flag'].value_counts()"
   ]
  },
  {
   "cell_type": "code",
   "execution_count": 40,
   "metadata": {},
   "outputs": [
    {
     "data": {
      "text/plain": [
       "id            0\n",
       "dataPoints    0\n",
       "flag          0\n",
       "dtype: int64"
      ]
     },
     "execution_count": 40,
     "metadata": {},
     "output_type": "execute_result"
    }
   ],
   "source": [
    "df['dataPoints'] = df['dataPoints'].fillna(0)\n",
    "df.isnull().sum()"
   ]
  },
  {
   "cell_type": "code",
   "execution_count": 41,
   "metadata": {},
   "outputs": [],
   "source": [
    "df['dataPoints'] = df['dataPoints'].replace(np.inf, 1)\n",
    "df['dataPoints'] = df['dataPoints'].replace(-np.inf, -1)"
   ]
  },
  {
   "cell_type": "code",
   "execution_count": 42,
   "metadata": {},
   "outputs": [
    {
     "name": "stdout",
     "output_type": "stream",
     "text": [
      "It contains 0 infinite values\n"
     ]
    }
   ],
   "source": [
    "count = np.isinf(df['dataPoints']).values.sum()\n",
    "print(\"It contains \" + str(count) + \" infinite values\")"
   ]
  },
  {
   "cell_type": "code",
   "execution_count": 44,
   "metadata": {},
   "outputs": [],
   "source": [
    "df['dataPoints'] = df[['dataPoints', 'flag']].apply(\n",
    "    lambda x: round(np.sqrt(x[0]), 2) if x[1]=='others' else x[0], axis=1)"
   ]
  },
  {
   "cell_type": "code",
   "execution_count": 45,
   "metadata": {},
   "outputs": [
    {
     "data": {
      "text/html": [
       "<div>\n",
       "<style scoped>\n",
       "    .dataframe tbody tr th:only-of-type {\n",
       "        vertical-align: middle;\n",
       "    }\n",
       "\n",
       "    .dataframe tbody tr th {\n",
       "        vertical-align: top;\n",
       "    }\n",
       "\n",
       "    .dataframe thead th {\n",
       "        text-align: right;\n",
       "    }\n",
       "</style>\n",
       "<table border=\"1\" class=\"dataframe\">\n",
       "  <thead>\n",
       "    <tr style=\"text-align: right;\">\n",
       "      <th></th>\n",
       "      <th>id</th>\n",
       "      <th>dataPoints</th>\n",
       "      <th>flag</th>\n",
       "    </tr>\n",
       "  </thead>\n",
       "  <tbody>\n",
       "    <tr>\n",
       "      <th>0</th>\n",
       "      <td>0</td>\n",
       "      <td>8.49</td>\n",
       "      <td>others</td>\n",
       "    </tr>\n",
       "    <tr>\n",
       "      <th>1</th>\n",
       "      <td>1</td>\n",
       "      <td>8.31</td>\n",
       "      <td>others</td>\n",
       "    </tr>\n",
       "    <tr>\n",
       "      <th>2</th>\n",
       "      <td>2</td>\n",
       "      <td>9.11</td>\n",
       "      <td>others</td>\n",
       "    </tr>\n",
       "    <tr>\n",
       "      <th>3</th>\n",
       "      <td>3</td>\n",
       "      <td>8.37</td>\n",
       "      <td>others</td>\n",
       "    </tr>\n",
       "    <tr>\n",
       "      <th>4</th>\n",
       "      <td>4</td>\n",
       "      <td>8.83</td>\n",
       "      <td>others</td>\n",
       "    </tr>\n",
       "    <tr>\n",
       "      <th>...</th>\n",
       "      <td>...</td>\n",
       "      <td>...</td>\n",
       "      <td>...</td>\n",
       "    </tr>\n",
       "    <tr>\n",
       "      <th>95</th>\n",
       "      <td>95</td>\n",
       "      <td>9.95</td>\n",
       "      <td>others</td>\n",
       "    </tr>\n",
       "    <tr>\n",
       "      <th>96</th>\n",
       "      <td>96</td>\n",
       "      <td>7.81</td>\n",
       "      <td>others</td>\n",
       "    </tr>\n",
       "    <tr>\n",
       "      <th>97</th>\n",
       "      <td>97</td>\n",
       "      <td>8.89</td>\n",
       "      <td>others</td>\n",
       "    </tr>\n",
       "    <tr>\n",
       "      <th>98</th>\n",
       "      <td>98</td>\n",
       "      <td>9.95</td>\n",
       "      <td>others</td>\n",
       "    </tr>\n",
       "    <tr>\n",
       "      <th>99</th>\n",
       "      <td>99</td>\n",
       "      <td>9.95</td>\n",
       "      <td>others</td>\n",
       "    </tr>\n",
       "  </tbody>\n",
       "</table>\n",
       "<p>100 rows × 3 columns</p>\n",
       "</div>"
      ],
      "text/plain": [
       "    id  dataPoints    flag\n",
       "0    0        8.49  others\n",
       "1    1        8.31  others\n",
       "2    2        9.11  others\n",
       "3    3        8.37  others\n",
       "4    4        8.83  others\n",
       "..  ..         ...     ...\n",
       "95  95        9.95  others\n",
       "96  96        7.81  others\n",
       "97  97        8.89  others\n",
       "98  98        9.95  others\n",
       "99  99        9.95  others\n",
       "\n",
       "[100 rows x 3 columns]"
      ]
     },
     "execution_count": 45,
     "metadata": {},
     "output_type": "execute_result"
    }
   ],
   "source": [
    "df"
   ]
  },
  {
   "cell_type": "code",
   "execution_count": 46,
   "metadata": {},
   "outputs": [],
   "source": [
    "df = df[['id', 'dataPoints']]"
   ]
  },
  {
   "cell_type": "code",
   "execution_count": 47,
   "metadata": {},
   "outputs": [],
   "source": [
    "df.to_csv('sample_submission.csv')"
   ]
  },
  {
   "cell_type": "code",
   "execution_count": null,
   "metadata": {},
   "outputs": [],
   "source": []
  }
 ],
 "metadata": {
  "kernelspec": {
   "display_name": "Python 3.9.6 64-bit",
   "language": "python",
   "name": "python3"
  },
  "language_info": {
   "codemirror_mode": {
    "name": "ipython",
    "version": 3
   },
   "file_extension": ".py",
   "mimetype": "text/x-python",
   "name": "python",
   "nbconvert_exporter": "python",
   "pygments_lexer": "ipython3",
   "version": "3.8.10"
  },
  "orig_nbformat": 4,
  "vscode": {
   "interpreter": {
    "hash": "b0fa6594d8f4cbf19f97940f81e996739fb7646882a419484c72d19e05852a7e"
   }
  }
 },
 "nbformat": 4,
 "nbformat_minor": 2
}
